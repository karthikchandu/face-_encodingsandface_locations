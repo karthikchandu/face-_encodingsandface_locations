{
  "nbformat": 4,
  "nbformat_minor": 0,
  "metadata": {
    "colab": {
      "name": "Untitled6.ipynb",
      "provenance": []
    },
    "kernelspec": {
      "name": "python3",
      "display_name": "Python 3"
    }
  },
  "cells": [
    {
      "cell_type": "code",
      "metadata": {
        "id": "sYexDcKySGNt",
        "colab_type": "code",
        "colab": {}
      },
      "source": [
        "#BASICS OF FACE ENCODINGS AND FACE LOCATION\n",
        "import cv2\n",
        "import face_recognition\n",
        " \n",
        "imgElon = face_recognition.load_image_file('ImagesBasic/Elon Musk.jpg')\n",
        "imgElon = cv2.cvtColor(imgElon,cv2.COLOR_BGR2RGB)\n",
        "imgTest = face_recognition.load_image_file('ImagesBasic/Bill gates.jpg')\n",
        "imgTest = cv2.cvtColor(imgTest,cv2.COLOR_BGR2RGB)\n",
        " \n",
        "faceLoc = face_recognition.face_locations(imgElon)[0]\n",
        "encodeElon = face_recognition.face_encodings(imgElon)[0]\n",
        "cv2.rectangle(imgElon,(faceLoc[3],faceLoc[0]),(faceLoc[1],faceLoc[2]),(255,0,255),2)\n",
        " \n",
        "faceLocTest = face_recognition.face_locations(imgTest)[0]\n",
        "encodeTest = face_recognition.face_encodings(imgTest)[0]\n",
        "cv2.rectangle(imgTest,(faceLocTest[3],faceLocTest[0]),(faceLocTest[1],faceLocTest[2]),(255,0,255),2)\n",
        " \n",
        "results = face_recognition.compare_faces([encodeElon],encodeTest)\n",
        "faceDis = face_recognition.face_distance([encodeElon],encodeTest)\n",
        "print(results,faceDis)\n",
        "cv2.putText(imgTest,f'{results} {round(faceDis[0],2)}',(50,50),cv2.FONT_HERSHEY_COMPLEX,1,(0,0,255),2)\n",
        " \n",
        "cv2.imshow('Elon Musk',imgElon)\n",
        "cv2.imshow('Elon Test',imgTest)\n",
        "cv2.waitKey(0)"
      ],
      "execution_count": null,
      "outputs": []
    }
  ]
}